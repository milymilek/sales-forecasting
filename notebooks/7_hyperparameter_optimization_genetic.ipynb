{
 "cells": [
  {
   "cell_type": "code",
   "execution_count": 1,
   "metadata": {},
   "outputs": [],
   "source": [
    "%load_ext autoreload\n",
    "%autoreload 2"
   ]
  },
  {
   "cell_type": "code",
   "execution_count": 2,
   "metadata": {},
   "outputs": [],
   "source": [
    "import os\n",
    "os.chdir('..')"
   ]
  },
  {
   "cell_type": "code",
   "execution_count": 3,
   "metadata": {},
   "outputs": [
    {
     "name": "stderr",
     "output_type": "stream",
     "text": [
      "/Users/miloszhanczyk/Documents/uv/MOW_2/lab/sales_forecasting/.venv/lib/python3.10/site-packages/tqdm/auto.py:21: TqdmWarning: IProgress not found. Please update jupyter and ipywidgets. See https://ipywidgets.readthedocs.io/en/stable/user_install.html\n",
      "  from .autonotebook import tqdm as notebook_tqdm\n"
     ]
    }
   ],
   "source": [
    "import optuna\n",
    "import pandas as pd\n",
    "import numpy as np\n",
    "from matplotlib import pyplot as plt\n",
    "from sklearn import preprocessing, metrics\n",
    "from sklearn.linear_model import LinearRegression\n",
    "from sklearn.neural_network import MLPRegressor\n",
    "from sklearn.ensemble import RandomForestRegressor\n",
    "from sklearn.tree import DecisionTreeRegressor\n",
    "import lightgbm as lgb\n",
    "import random\n",
    "import pygad\n",
    "\n",
    "from sales_forecasting.utils import timeseries_split\n",
    "from sales_forecasting.plot import plot_timeseries, plot_feature_importance\n",
    "from sales_forecasting.features import col_name"
   ]
  },
  {
   "cell_type": "code",
   "execution_count": 4,
   "metadata": {},
   "outputs": [],
   "source": [
    "random.seed(42)\n",
    "np.random.seed(42)"
   ]
  },
  {
   "cell_type": "code",
   "execution_count": 5,
   "metadata": {},
   "outputs": [],
   "source": [
    "df = pd.read_parquet(\".data/df_agg_monthly_oversampled.parquet\")\n",
    "train_split, valid_split = timeseries_split(df, max_month=33, col='date_block_num', continuous=False)\n",
    "train_test_split, test_split = timeseries_split(df, max_month=34, col='date_block_num', continuous=False)\n",
    "target_col = 'item_cnt_month'\n",
    "train_target, valid_target = train_split[target_col].clip(0, 20), valid_split[target_col].clip(0, 20)\n",
    "cols_to_drop = [target_col, 'date_block_num', 'shop_id', 'item_id']\n",
    "X_train, X_valid = train_split.drop(columns=cols_to_drop), valid_split.drop(columns=cols_to_drop)"
   ]
  },
  {
   "cell_type": "code",
   "execution_count": 28,
   "metadata": {},
   "outputs": [],
   "source": [
    "params = {\n",
    "    \"float\": {\n",
    "        'learning_rate': (1e-5, 1.0),\n",
    "        'reg_alpha': (1e-3, 10.0),\n",
    "        'reg_lambda': (1e-3, 10.0),\n",
    "        'colsample_bytree': (0.3, 1.0),\n",
    "        'subsample': (0.4, 1.0),\n",
    "    },\n",
    "    \"int\": {\n",
    "        'num_leaves': (20, 150),\n",
    "        'max_depth': (1, 50),\n",
    "        'min_child_samples': (1, 300), \n",
    "        'cat_smooth' : (1, 100), \n",
    "    }\n",
    "}\n",
    "\n",
    "gene_space = [\n",
    "    *({\"low\": pv[0], \"high\": pv[1]} for pv in params[\"float\"].values()),\n",
    "    *({\"low\": pv[0], \"high\": pv[1], \"step\": 1} for pv in params[\"int\"].values())\n",
    "]"
   ]
  },
  {
   "cell_type": "code",
   "execution_count": 29,
   "metadata": {},
   "outputs": [],
   "source": [
    "def fitness_function(ga_instance, solution, solution_idx):\n",
    "    params = {\n",
    "        \"float\": {\n",
    "            'learning_rate': (1e-5, 1.0),\n",
    "            'reg_alpha': (1e-3, 10.0),\n",
    "            'reg_lambda': (1e-3, 10.0),\n",
    "            'colsample_bytree': (0.3, 1.0),\n",
    "            'subsample': (0.4, 1.0),\n",
    "        },\n",
    "        \"int\": {\n",
    "            'num_leaves': (20, 150),\n",
    "            'max_depth': (1, 50),\n",
    "            'min_child_samples': (1, 300), \n",
    "            'cat_smooth' : (1, 100), \n",
    "        }\n",
    "    }\n",
    "    keys = list(params[\"float\"]) + list(params[\"int\"])\n",
    "\n",
    "    params = {k: v for k, v in zip(keys, solution)} | {'n_estimators': 50, 'random_state': 42, 'verbose': -1}\n",
    "\n",
    "    model = lgb.LGBMRegressor(**params, boosting_type='gbdt', n_jobs=-1, metric='rmse', objective='regression')\n",
    "    model.fit(X_train, train_target, eval_set=[(X_valid, valid_target)])\n",
    "\n",
    "    y_valid_pred = model.predict(X_valid)\n",
    "    rmse = metrics.root_mean_squared_error(valid_target, y_valid_pred)\n",
    "    return -rmse"
   ]
  },
  {
   "cell_type": "code",
   "execution_count": 30,
   "metadata": {},
   "outputs": [
    {
     "name": "stderr",
     "output_type": "stream",
     "text": [
      "/Users/miloszhanczyk/Documents/uv/MOW_2/lab/sales_forecasting/.venv/lib/python3.10/site-packages/pygad/pygad.py:1139: UserWarning: The 'delay_after_gen' parameter is deprecated starting from PyGAD 3.3.0. To delay or pause the evolution after each generation, assign a callback function/method to the 'on_generation' parameter to adds some time delay.\n",
      "  warnings.warn(\"The 'delay_after_gen' parameter is deprecated starting from PyGAD 3.3.0. To delay or pause the evolution after each generation, assign a callback function/method to the 'on_generation' parameter to adds some time delay.\")\n"
     ]
    },
    {
     "name": "stdout",
     "output_type": "stream",
     "text": [
      "\n",
      "Best Hyperparameters Found:\n",
      "{'learning_rate': np.float64(0.041077106092708114), 'reg_alpha': np.float64(3.988810193546501), 'reg_lambda': np.float64(4.33577385506984), 'colsample_bytree': np.float64(0.8208298500993807), 'subsample': 0.4, 'num_leaves': 20, 'max_depth': np.int64(25), 'min_child_samples': 151, 'cat_smooth': np.int64(60)}\n",
      "Best RMSE (Validation): 0.38464007359680524\n"
     ]
    }
   ],
   "source": [
    "num_generations = 5\n",
    "sol_per_pop = 10\n",
    "num_genes = len(params[\"float\"]) + len(params[\"int\"])\n",
    "\n",
    "ga_instance = pygad.GA(\n",
    "    num_generations=num_generations,\n",
    "    num_parents_mating=4,\n",
    "    fitness_func=fitness_function,\n",
    "    sol_per_pop=sol_per_pop,\n",
    "    num_genes=num_genes,\n",
    "    gene_space=gene_space,\n",
    "    gene_type=(len(params[\"float\"]) * [float]) + (len(params[\"int\"]) * [int]),\n",
    "    parent_selection_type=\"sss\",\n",
    "    keep_parents=2,\n",
    "    crossover_type=\"single_point\",\n",
    "    mutation_type=\"random\",\n",
    "    mutation_percent_genes=20\n",
    ")\n",
    "ga_instance.run()\n",
    "\n",
    "solution, solution_fitness, solution_idx = ga_instance.best_solution()\n",
    "best_hyperparams = {k: v for k, v in zip(list(params[\"float\"]) + list(params[\"int\"]), solution)}\n",
    "\n",
    "print(\"\\nBest Hyperparameters Found:\")\n",
    "print(best_hyperparams)\n",
    "print(\"Best RMSE (Validation):\", -solution_fitness)"
   ]
  },
  {
   "cell_type": "code",
   "execution_count": null,
   "metadata": {},
   "outputs": [],
   "source": []
  }
 ],
 "metadata": {
  "kernelspec": {
   "display_name": ".venv",
   "language": "python",
   "name": "python3"
  },
  "language_info": {
   "codemirror_mode": {
    "name": "ipython",
    "version": 3
   },
   "file_extension": ".py",
   "mimetype": "text/x-python",
   "name": "python",
   "nbconvert_exporter": "python",
   "pygments_lexer": "ipython3",
   "version": "3.10.14"
  }
 },
 "nbformat": 4,
 "nbformat_minor": 2
}
