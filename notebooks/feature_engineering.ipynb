{
 "cells": [
  {
   "cell_type": "code",
   "execution_count": 1,
   "metadata": {},
   "outputs": [],
   "source": [
    "%load_ext autoreload\n",
    "%autoreload 2"
   ]
  },
  {
   "cell_type": "code",
   "execution_count": 2,
   "metadata": {},
   "outputs": [],
   "source": [
    "import os\n",
    "os.chdir('..')"
   ]
  },
  {
   "cell_type": "code",
   "execution_count": 3,
   "metadata": {},
   "outputs": [],
   "source": [
    "import pandas as pd\n",
    "import numpy as np\n",
    "from matplotlib import pyplot as plt\n",
    "import lightgbm as lgb\n",
    "from sklearn import preprocessing, pipeline, compose, model_selection, metrics\n",
    "from typing import Callable\n",
    "\n",
    "from sales_forecasting.utils import timeseries_split"
   ]
  },
  {
   "cell_type": "code",
   "execution_count": 4,
   "metadata": {},
   "outputs": [],
   "source": [
    "df = pd.read_parquet(\".data/df_full.parquet\")\n",
    "df_items = pd.read_csv(\".data/items.csv\")"
   ]
  },
  {
   "cell_type": "code",
   "execution_count": 5,
   "metadata": {},
   "outputs": [],
   "source": [
    "def mean_n_last(x: np.ndarray, n: int = 3) -> float:\n",
    "    return x[-min(n, x.size):].mean()\n",
    "\n",
    "def aggregate_monthly(df: pd.DataFrame, agg_fn: Callable, agg_scope_name: str) -> pd.DataFrame:\n",
    "    new_cols = [f'prev_item_price_agg__{agg_scope_name}', f'is_prev_item_price__{agg_scope_name}']\n",
    "    #display(df)\n",
    "    months_sales = df['date_block_num'].unique()\n",
    "    #print(months_sales)\n",
    "    mapping = {months_sales[0]: np.nan}\n",
    "    for i in range(1, len(months_sales)):\n",
    "        i_date_block_num = months_sales[i]\n",
    "        #display(df[df['date_block_num'] < i_date_block_num])\n",
    "        mapping[i_date_block_num] = agg_fn(df[df['date_block_num'] < i_date_block_num]['item_price'])\n",
    "\n",
    "    df[new_cols[0]] = df['date_block_num'].map(mapping)\n",
    "    df[new_cols[1]] = df['date_block_num'].map({k: int(np.isnan(v)) for k,v in mapping.items()})\n",
    "\n",
    "    display()\n",
    "\n",
    "    return df[[\"date_block_num\", *new_cols]].reset_index(drop=True)\n",
    "\n",
    "def build_monthly_item_price_features(df: pd.DataFrame, agg_cols: list[str], agg_fun: Callable) -> pd.DataFrame:\n",
    "    agg_scope_name = {\"shop_id\": \"local\", \"item_id\": \"global\"}[agg_cols[0]]\n",
    "    new_features = df.groupby(agg_cols) \\\n",
    "        .apply(aggregate_monthly, agg_fn=agg_fun, agg_scope_name=agg_scope_name) \\\n",
    "        .reset_index(level=-1, drop=True).reset_index() \\\n",
    "        .drop_duplicates()\n",
    "    return pd.merge(df, new_features, on=[*agg_cols, \"date_block_num\"], how='left')"
   ]
  },
  {
   "cell_type": "code",
   "execution_count": 6,
   "metadata": {},
   "outputs": [
    {
     "name": "stderr",
     "output_type": "stream",
     "text": [
      "/var/folders/nn/v5bcwy852z121w7pz8m7sypr0000gn/T/ipykernel_6392/2716857303.py:24: DeprecationWarning: DataFrameGroupBy.apply operated on the grouping columns. This behavior is deprecated, and in a future version of pandas the grouping columns will be excluded from the operation. Either pass `include_groups=False` to exclude the groupings or explicitly select the grouping columns after groupby to silence this warning.\n",
      "  new_features = df.groupby(agg_cols) \\\n",
      "/var/folders/nn/v5bcwy852z121w7pz8m7sypr0000gn/T/ipykernel_6392/2716857303.py:24: DeprecationWarning: DataFrameGroupBy.apply operated on the grouping columns. This behavior is deprecated, and in a future version of pandas the grouping columns will be excluded from the operation. Either pass `include_groups=False` to exclude the groupings or explicitly select the grouping columns after groupby to silence this warning.\n",
      "  new_features = df.groupby(agg_cols) \\\n"
     ]
    }
   ],
   "source": [
    "df_shop_5 = df[df.shop_id < 5]\n",
    "df_shop_5 = build_monthly_item_price_features(df_shop_5, agg_cols=[\"shop_id\", \"item_id\"], agg_fun=np.mean)\n",
    "df_shop_5 = build_monthly_item_price_features(df_shop_5, agg_cols=[\"item_id\"], agg_fun=np.mean)"
   ]
  },
  {
   "cell_type": "code",
   "execution_count": 7,
   "metadata": {},
   "outputs": [],
   "source": [
    "def build_month_features(df: pd.DataFrame) -> pd.DataFrame:\n",
    "    df_features = df.copy()\n",
    "\n",
    "    df_features['month_sin'] = np.sin(np.pi / 12 * (df['date'].dt.month - 1))\n",
    "    df_features['month_cos'] = np.cos(np.pi / 12 * (df['date'].dt.month - 1))\n",
    "    \n",
    "    return df_features"
   ]
  },
  {
   "cell_type": "code",
   "execution_count": 8,
   "metadata": {},
   "outputs": [],
   "source": [
    "df = build_month_features(df)"
   ]
  },
  {
   "cell_type": "code",
   "execution_count": 5,
   "metadata": {},
   "outputs": [],
   "source": [
    "df['item_cnt_day'] = df['item_cnt_day'].clip(0, 20)\n",
    "df = df[['date_block_num', 'shop_id', 'item_id', 'item_category_id', 'item_cnt_day']]"
   ]
  },
  {
   "cell_type": "code",
   "execution_count": 6,
   "metadata": {},
   "outputs": [],
   "source": [
    "X = df.drop(columns=[\"item_cnt_day\"])\n",
    "y = df[['item_cnt_day']]"
   ]
  },
  {
   "cell_type": "code",
   "execution_count": null,
   "metadata": {},
   "outputs": [],
   "source": [
    "num_columns = []\n",
    "cat_columns = ['shop_id', 'item_id', 'item_category_id']\n",
    "\n",
    "preprocessor = compose.ColumnTransformer(\n",
    "    transformers=[\n",
    "        ('num', preprocessing.StandardScaler(), num_columns),\n",
    "        ('cat', preprocessing.OneHotEncoder(), cat_columns)\n",
    "    ])\n",
    "\n",
    "pipeline = pipeline.Pipeline(steps=[\n",
    "    ('preprocessor', preprocessor),\n",
    "])"
   ]
  },
  {
   "cell_type": "code",
   "execution_count": 12,
   "metadata": {},
   "outputs": [],
   "source": [
    "X_train, X_valid, X_test = timeseries_split(X, col=\"date_block_num\", continuous=False)\n",
    "y_train, y_valid, y_test = y.iloc[X_train.index], y.iloc[X_valid.index], y.iloc[X_test.index]"
   ]
  },
  {
   "cell_type": "code",
   "execution_count": null,
   "metadata": {},
   "outputs": [],
   "source": [
    "pipeline.fit(X_train, y_train)"
   ]
  },
  {
   "cell_type": "code",
   "execution_count": null,
   "metadata": {},
   "outputs": [],
   "source": [
    "X_train"
   ]
  },
  {
   "cell_type": "code",
   "execution_count": null,
   "metadata": {},
   "outputs": [],
   "source": [
    "X_valid"
   ]
  },
  {
   "cell_type": "code",
   "execution_count": null,
   "metadata": {},
   "outputs": [],
   "source": [
    "X_train_transformed = pipeline.transform(X_train)\n",
    "X_valid_transformed = pipeline.transform(X_valid)"
   ]
  },
  {
   "cell_type": "code",
   "execution_count": 28,
   "metadata": {},
   "outputs": [],
   "source": [
    "X_transformed = pd.DataFrame(data=enc.transform(X).toarray(), columns=enc.get_feature_names_out())"
   ]
  },
  {
   "cell_type": "code",
   "execution_count": 10,
   "metadata": {},
   "outputs": [],
   "source": [
    "X_train, X_test, y_train, y_test = model_selection.train_test_split(X, y, test_size=0.2, random_state=42)"
   ]
  },
  {
   "cell_type": "code",
   "execution_count": 12,
   "metadata": {},
   "outputs": [],
   "source": [
    "X_train_transformed = enc.transform(X_train)\n",
    "X_test_transformed = enc.transform(X_test)"
   ]
  },
  {
   "cell_type": "code",
   "execution_count": 16,
   "metadata": {},
   "outputs": [],
   "source": [
    "train_data = lgb.Dataset(X_train_transformed, label=y_train)\n",
    "test_data = lgb.Dataset(X_test_transformed, label=y_test, reference=train_data)"
   ]
  },
  {
   "cell_type": "code",
   "execution_count": null,
   "metadata": {},
   "outputs": [],
   "source": [
    "params = {\n",
    "    'objective': 'regression',\n",
    "    'metric': 'rmse',\n",
    "    'boosting_type': 'gbdt',\n",
    "    'num_leaves': 31,\n",
    "    'learning_rate': 0.05,\n",
    "    'feature_fraction': 0.9\n",
    "}\n",
    "\n",
    "# Train the model\n",
    "gbm = lgb.train(params, train_data, num_boost_round=100, valid_sets=[train_data, test_data])\n"
   ]
  },
  {
   "cell_type": "code",
   "execution_count": 21,
   "metadata": {},
   "outputs": [],
   "source": [
    "y_pred = gbm.predict(X_train_transformed, num_iteration=gbm.best_iteration)"
   ]
  },
  {
   "cell_type": "code",
   "execution_count": 25,
   "metadata": {},
   "outputs": [],
   "source": [
    "mse = metrics.mean_squared_error(y_train, y_pred)"
   ]
  },
  {
   "cell_type": "code",
   "execution_count": null,
   "metadata": {},
   "outputs": [],
   "source": [
    "y_pred"
   ]
  },
  {
   "cell_type": "code",
   "execution_count": null,
   "metadata": {},
   "outputs": [],
   "source": [
    "y_trains"
   ]
  },
  {
   "cell_type": "code",
   "execution_count": null,
   "metadata": {},
   "outputs": [],
   "source": []
  }
 ],
 "metadata": {
  "kernelspec": {
   "display_name": ".venv",
   "language": "python",
   "name": "python3"
  },
  "language_info": {
   "codemirror_mode": {
    "name": "ipython",
    "version": 3
   },
   "file_extension": ".py",
   "mimetype": "text/x-python",
   "name": "python",
   "nbconvert_exporter": "python",
   "pygments_lexer": "ipython3",
   "version": "3.10.4"
  }
 },
 "nbformat": 4,
 "nbformat_minor": 2
}
