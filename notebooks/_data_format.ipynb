{
 "cells": [
  {
   "cell_type": "code",
   "execution_count": 1,
   "metadata": {},
   "outputs": [],
   "source": [
    "import os\n",
    "os.chdir('..')"
   ]
  },
  {
   "cell_type": "code",
   "execution_count": 2,
   "metadata": {},
   "outputs": [],
   "source": [
    "import pandas as pd\n",
    "import numpy as np\n",
    "from matplotlib import pyplot as plt"
   ]
  },
  {
   "cell_type": "code",
   "execution_count": null,
   "metadata": {},
   "outputs": [],
   "source": [
    "df = pd.read_csv(\".data/sales_train.csv\")"
   ]
  },
  {
   "cell_type": "code",
   "execution_count": null,
   "metadata": {},
   "outputs": [],
   "source": [
    "df.columns"
   ]
  },
  {
   "cell_type": "code",
   "execution_count": null,
   "metadata": {},
   "outputs": [],
   "source": [
    "%timeit df.to_csv(\".data/tests/df.csv\", index=False)"
   ]
  },
  {
   "cell_type": "code",
   "execution_count": null,
   "metadata": {},
   "outputs": [],
   "source": [
    "%timeit df.to_parquet(\".data/tests/df_snappy.parquet\", engine='pyarrow')"
   ]
  },
  {
   "cell_type": "code",
   "execution_count": null,
   "metadata": {},
   "outputs": [],
   "source": [
    "%timeit df.to_parquet(\".data/tests/df_gzip.parquet\", engine='pyarrow', compression='gzip')"
   ]
  },
  {
   "cell_type": "code",
   "execution_count": null,
   "metadata": {},
   "outputs": [],
   "source": [
    "%timeit df.to_parquet(\".data/tests/df_brotli.parquet\", engine='pyarrow', compression='brotli')"
   ]
  },
  {
   "cell_type": "code",
   "execution_count": null,
   "metadata": {},
   "outputs": [],
   "source": [
    "%timeit df.to_feather(\".data/tests/df.feather\")"
   ]
  },
  {
   "cell_type": "code",
   "execution_count": null,
   "metadata": {},
   "outputs": [],
   "source": [
    "!ls -lahS .data/tests"
   ]
  },
  {
   "cell_type": "code",
   "execution_count": null,
   "metadata": {},
   "outputs": [],
   "source": []
  },
  {
   "cell_type": "code",
   "execution_count": 3,
   "metadata": {},
   "outputs": [
    {
     "ename": "NameError",
     "evalue": "name 'df' is not defined",
     "output_type": "error",
     "traceback": [
      "\u001b[0;31m---------------------------------------------------------------------------\u001b[0m",
      "\u001b[0;31mNameError\u001b[0m                                 Traceback (most recent call last)",
      "Cell \u001b[0;32mIn[3], line 1\u001b[0m\n\u001b[0;32m----> 1\u001b[0m \u001b[43mdf\u001b[49m\u001b[38;5;241m.\u001b[39mto_parquet(\u001b[38;5;124m\"\u001b[39m\u001b[38;5;124m.data/tests/df_date_partition_parquet\u001b[39m\u001b[38;5;124m\"\u001b[39m, partition_cols\u001b[38;5;241m=\u001b[39m[\u001b[38;5;124m\"\u001b[39m\u001b[38;5;124mdate\u001b[39m\u001b[38;5;124m\"\u001b[39m], engine\u001b[38;5;241m=\u001b[39m\u001b[38;5;124m'\u001b[39m\u001b[38;5;124mpyarrow\u001b[39m\u001b[38;5;124m'\u001b[39m)\n",
      "\u001b[0;31mNameError\u001b[0m: name 'df' is not defined"
     ]
    }
   ],
   "source": [
    "df.to_parquet(\".data/tests/df_date_partition_parquet\", partition_cols=[\"date\"], engine='pyarrow')"
   ]
  },
  {
   "cell_type": "code",
   "execution_count": null,
   "metadata": {},
   "outputs": [],
   "source": [
    "pd.read_parquet(\".data/tests/df_date_partition_parquet/date=01.01.2013/f97c96c58e554423bfde4d486bb60eb0-0.parquet\")"
   ]
  },
  {
   "cell_type": "code",
   "execution_count": null,
   "metadata": {},
   "outputs": [],
   "source": [
    "df.to_parquet(\".data/tests/df_date_block_num_partition_parquet\", partition_cols=[\"date_block_num\"], engine='pyarrow')"
   ]
  },
  {
   "cell_type": "code",
   "execution_count": null,
   "metadata": {},
   "outputs": [],
   "source": [
    "pd.read_parquet(\".data/tests/df_date_block_num_partition_parquet/date_block_num=0/25ea1d93c43e4d33808821a209ba3d53-0.parquet\")"
   ]
  },
  {
   "cell_type": "code",
   "execution_count": null,
   "metadata": {},
   "outputs": [],
   "source": [
    "!du -sh .data/tests/df_date_block_num_partition_parquet"
   ]
  },
  {
   "cell_type": "code",
   "execution_count": null,
   "metadata": {},
   "outputs": [],
   "source": [
    "!du -sh .data/tests/df_date_partition_parquet"
   ]
  },
  {
   "cell_type": "code",
   "execution_count": null,
   "metadata": {},
   "outputs": [],
   "source": []
  },
  {
   "cell_type": "code",
   "execution_count": null,
   "metadata": {},
   "outputs": [],
   "source": []
  },
  {
   "cell_type": "code",
   "execution_count": 4,
   "metadata": {},
   "outputs": [],
   "source": [
    "import deltalake\n",
    "import pyarrow as pa"
   ]
  },
  {
   "cell_type": "code",
   "execution_count": 5,
   "metadata": {},
   "outputs": [
    {
     "name": "stderr",
     "output_type": "stream",
     "text": [
      "/Users/miloszhanczyk/Documents/uv/MOW_2/lab/sales_forecasting/.venv/lib/python3.10/site-packages/pandas/io/formats/format.py:1458: RuntimeWarning: overflow encountered in cast\n",
      "  has_large_values = (abs_vals > 1e6).any()\n",
      "/Users/miloszhanczyk/Documents/uv/MOW_2/lab/sales_forecasting/.venv/lib/python3.10/site-packages/pandas/io/formats/format.py:1458: RuntimeWarning: overflow encountered in cast\n",
      "  has_large_values = (abs_vals > 1e6).any()\n"
     ]
    },
    {
     "data": {
      "text/html": [
       "<div>\n",
       "<style scoped>\n",
       "    .dataframe tbody tr th:only-of-type {\n",
       "        vertical-align: middle;\n",
       "    }\n",
       "\n",
       "    .dataframe tbody tr th {\n",
       "        vertical-align: top;\n",
       "    }\n",
       "\n",
       "    .dataframe thead th {\n",
       "        text-align: right;\n",
       "    }\n",
       "</style>\n",
       "<table border=\"1\" class=\"dataframe\">\n",
       "  <thead>\n",
       "    <tr style=\"text-align: right;\">\n",
       "      <th></th>\n",
       "      <th>date_block_num</th>\n",
       "      <th>shop_id</th>\n",
       "      <th>item_id</th>\n",
       "      <th>item_cnt_month</th>\n",
       "      <th>city_id</th>\n",
       "      <th>item_category_id</th>\n",
       "      <th>general_item_category_id</th>\n",
       "      <th>date_month</th>\n",
       "      <th>month_sin</th>\n",
       "      <th>month_cos</th>\n",
       "      <th>...</th>\n",
       "      <th>rolling_9</th>\n",
       "      <th>avg_shop_item_item_price_lag_1</th>\n",
       "      <th>avg_shop_item_item_cnt_day_lag_1</th>\n",
       "      <th>avg_item_item_price_lag_1</th>\n",
       "      <th>avg_item_item_cnt_day_lag_1</th>\n",
       "      <th>avg_shop_item_category_item_price_lag_1</th>\n",
       "      <th>avg_shop_item_category_item_cnt_day_lag_1</th>\n",
       "      <th>avg_item_category_item_price_lag_1</th>\n",
       "      <th>avg_item_category_item_cnt_day_lag_1</th>\n",
       "      <th>months_since_last_buy</th>\n",
       "    </tr>\n",
       "  </thead>\n",
       "  <tbody>\n",
       "    <tr>\n",
       "      <th>0</th>\n",
       "      <td>20</td>\n",
       "      <td>0</td>\n",
       "      <td>0</td>\n",
       "      <td>0</td>\n",
       "      <td>0</td>\n",
       "      <td>40</td>\n",
       "      <td>11</td>\n",
       "      <td>8</td>\n",
       "      <td>0.866211</td>\n",
       "      <td>-0.500000</td>\n",
       "      <td>...</td>\n",
       "      <td>0.0</td>\n",
       "      <td>169.0</td>\n",
       "      <td>1.0</td>\n",
       "      <td>4488.0</td>\n",
       "      <td>1.0</td>\n",
       "      <td>270.50</td>\n",
       "      <td>1.163086</td>\n",
       "      <td>264.00</td>\n",
       "      <td>1.080078</td>\n",
       "      <td>0</td>\n",
       "    </tr>\n",
       "    <tr>\n",
       "      <th>1</th>\n",
       "      <td>21</td>\n",
       "      <td>0</td>\n",
       "      <td>0</td>\n",
       "      <td>0</td>\n",
       "      <td>0</td>\n",
       "      <td>40</td>\n",
       "      <td>11</td>\n",
       "      <td>9</td>\n",
       "      <td>0.707031</td>\n",
       "      <td>-0.707031</td>\n",
       "      <td>...</td>\n",
       "      <td>0.0</td>\n",
       "      <td>169.0</td>\n",
       "      <td>1.0</td>\n",
       "      <td>4488.0</td>\n",
       "      <td>1.0</td>\n",
       "      <td>263.50</td>\n",
       "      <td>1.150391</td>\n",
       "      <td>265.50</td>\n",
       "      <td>1.080078</td>\n",
       "      <td>1</td>\n",
       "    </tr>\n",
       "    <tr>\n",
       "      <th>2</th>\n",
       "      <td>22</td>\n",
       "      <td>0</td>\n",
       "      <td>0</td>\n",
       "      <td>0</td>\n",
       "      <td>0</td>\n",
       "      <td>40</td>\n",
       "      <td>11</td>\n",
       "      <td>10</td>\n",
       "      <td>0.500000</td>\n",
       "      <td>-0.866211</td>\n",
       "      <td>...</td>\n",
       "      <td>0.0</td>\n",
       "      <td>169.0</td>\n",
       "      <td>1.0</td>\n",
       "      <td>4488.0</td>\n",
       "      <td>1.0</td>\n",
       "      <td>263.75</td>\n",
       "      <td>1.170898</td>\n",
       "      <td>263.75</td>\n",
       "      <td>1.087891</td>\n",
       "      <td>2</td>\n",
       "    </tr>\n",
       "    <tr>\n",
       "      <th>3</th>\n",
       "      <td>23</td>\n",
       "      <td>0</td>\n",
       "      <td>0</td>\n",
       "      <td>0</td>\n",
       "      <td>0</td>\n",
       "      <td>40</td>\n",
       "      <td>11</td>\n",
       "      <td>11</td>\n",
       "      <td>0.258789</td>\n",
       "      <td>-0.965820</td>\n",
       "      <td>...</td>\n",
       "      <td>0.0</td>\n",
       "      <td>169.0</td>\n",
       "      <td>1.0</td>\n",
       "      <td>4488.0</td>\n",
       "      <td>1.0</td>\n",
       "      <td>262.25</td>\n",
       "      <td>1.138672</td>\n",
       "      <td>264.00</td>\n",
       "      <td>1.089844</td>\n",
       "      <td>3</td>\n",
       "    </tr>\n",
       "    <tr>\n",
       "      <th>4</th>\n",
       "      <td>24</td>\n",
       "      <td>0</td>\n",
       "      <td>0</td>\n",
       "      <td>0</td>\n",
       "      <td>0</td>\n",
       "      <td>40</td>\n",
       "      <td>11</td>\n",
       "      <td>0</td>\n",
       "      <td>0.000000</td>\n",
       "      <td>1.000000</td>\n",
       "      <td>...</td>\n",
       "      <td>0.0</td>\n",
       "      <td>169.0</td>\n",
       "      <td>1.0</td>\n",
       "      <td>4488.0</td>\n",
       "      <td>1.0</td>\n",
       "      <td>262.50</td>\n",
       "      <td>1.228516</td>\n",
       "      <td>262.00</td>\n",
       "      <td>1.131836</td>\n",
       "      <td>4</td>\n",
       "    </tr>\n",
       "  </tbody>\n",
       "</table>\n",
       "<p>5 rows × 33 columns</p>\n",
       "</div>"
      ],
      "text/plain": [
       "   date_block_num  shop_id  item_id  item_cnt_month  city_id  \\\n",
       "0              20        0        0               0        0   \n",
       "1              21        0        0               0        0   \n",
       "2              22        0        0               0        0   \n",
       "3              23        0        0               0        0   \n",
       "4              24        0        0               0        0   \n",
       "\n",
       "   item_category_id  general_item_category_id  date_month  month_sin  \\\n",
       "0                40                        11           8   0.866211   \n",
       "1                40                        11           9   0.707031   \n",
       "2                40                        11          10   0.500000   \n",
       "3                40                        11          11   0.258789   \n",
       "4                40                        11           0   0.000000   \n",
       "\n",
       "   month_cos  ...  rolling_9  avg_shop_item_item_price_lag_1  \\\n",
       "0  -0.500000  ...        0.0                           169.0   \n",
       "1  -0.707031  ...        0.0                           169.0   \n",
       "2  -0.866211  ...        0.0                           169.0   \n",
       "3  -0.965820  ...        0.0                           169.0   \n",
       "4   1.000000  ...        0.0                           169.0   \n",
       "\n",
       "   avg_shop_item_item_cnt_day_lag_1  avg_item_item_price_lag_1  \\\n",
       "0                               1.0                     4488.0   \n",
       "1                               1.0                     4488.0   \n",
       "2                               1.0                     4488.0   \n",
       "3                               1.0                     4488.0   \n",
       "4                               1.0                     4488.0   \n",
       "\n",
       "   avg_item_item_cnt_day_lag_1  avg_shop_item_category_item_price_lag_1  \\\n",
       "0                          1.0                                   270.50   \n",
       "1                          1.0                                   263.50   \n",
       "2                          1.0                                   263.75   \n",
       "3                          1.0                                   262.25   \n",
       "4                          1.0                                   262.50   \n",
       "\n",
       "   avg_shop_item_category_item_cnt_day_lag_1  \\\n",
       "0                                   1.163086   \n",
       "1                                   1.150391   \n",
       "2                                   1.170898   \n",
       "3                                   1.138672   \n",
       "4                                   1.228516   \n",
       "\n",
       "   avg_item_category_item_price_lag_1  avg_item_category_item_cnt_day_lag_1  \\\n",
       "0                              264.00                              1.080078   \n",
       "1                              265.50                              1.080078   \n",
       "2                              263.75                              1.087891   \n",
       "3                              264.00                              1.089844   \n",
       "4                              262.00                              1.131836   \n",
       "\n",
       "   months_since_last_buy  \n",
       "0                      0  \n",
       "1                      1  \n",
       "2                      2  \n",
       "3                      3  \n",
       "4                      4  \n",
       "\n",
       "[5 rows x 33 columns]"
      ]
     },
     "execution_count": 5,
     "metadata": {},
     "output_type": "execute_result"
    }
   ],
   "source": [
    "path_pq = \".data/df_agg_monthly_oversampled.parquet\"\n",
    "path_delta = \".data/tests/delta/df_agg_monthly_oversampled\"\n",
    "\n",
    "df = pd.read_parquet(path_pq)\n",
    "df.head(5)"
   ]
  },
  {
   "cell_type": "code",
   "execution_count": 18,
   "metadata": {},
   "outputs": [],
   "source": [
    "schema = pa.schema([\n",
    "    (\"date_block_num\", pa.int32()),\n",
    "    (\"shop_id\", pa.int32())    \n",
    "])"
   ]
  },
  {
   "cell_type": "code",
   "execution_count": 19,
   "metadata": {},
   "outputs": [
    {
     "ename": "TypeError",
     "evalue": "DeltaTable.create() missing 1 required positional argument: 'schema'",
     "output_type": "error",
     "traceback": [
      "\u001b[0;31m---------------------------------------------------------------------------\u001b[0m",
      "\u001b[0;31mTypeError\u001b[0m                                 Traceback (most recent call last)",
      "Cell \u001b[0;32mIn[19], line 1\u001b[0m\n\u001b[0;32m----> 1\u001b[0m dt \u001b[38;5;241m=\u001b[39m \u001b[43mdeltalake\u001b[49m\u001b[38;5;241;43m.\u001b[39;49m\u001b[43mDeltaTable\u001b[49m\u001b[38;5;241;43m.\u001b[39;49m\u001b[43mcreate\u001b[49m\u001b[43m(\u001b[49m\u001b[43mpath_delta\u001b[49m\u001b[43m)\u001b[49m\n",
      "\u001b[0;31mTypeError\u001b[0m: DeltaTable.create() missing 1 required positional argument: 'schema'"
     ]
    }
   ],
   "source": [
    "dt = deltalake.DeltaTable.create(path_delta)"
   ]
  },
  {
   "cell_type": "code",
   "execution_count": 21,
   "metadata": {},
   "outputs": [],
   "source": [
    "deltalake.write_deltalake(path_delta, df[['date_block_num', 'shop_id']].head(10), mode='append')"
   ]
  },
  {
   "cell_type": "code",
   "execution_count": 22,
   "metadata": {},
   "outputs": [],
   "source": [
    "dt = deltalake.DeltaTable(path_delta)\n"
   ]
  },
  {
   "cell_type": "code",
   "execution_count": 23,
   "metadata": {},
   "outputs": [
    {
     "data": {
      "text/plain": [
       "Schema([Field(date_block_num, PrimitiveType(\"byte\"), nullable=True), Field(shop_id, PrimitiveType(\"byte\"), nullable=True), Field(__index_level_0__, PrimitiveType(\"long\"), nullable=True)])"
      ]
     },
     "execution_count": 23,
     "metadata": {},
     "output_type": "execute_result"
    }
   ],
   "source": [
    "dt.schema()"
   ]
  },
  {
   "cell_type": "code",
   "execution_count": null,
   "metadata": {},
   "outputs": [],
   "source": [
    "deltalake.DeltaTable(path_delta).to_pandas()"
   ]
  },
  {
   "cell_type": "code",
   "execution_count": null,
   "metadata": {},
   "outputs": [],
   "source": [
    "schema2 = schema.append(pa.field(\"item_id\", pa.int32()))"
   ]
  },
  {
   "cell_type": "code",
   "execution_count": null,
   "metadata": {},
   "outputs": [],
   "source": [
    "schema2"
   ]
  },
  {
   "cell_type": "code",
   "execution_count": null,
   "metadata": {},
   "outputs": [],
   "source": [
    "deltalake.write_deltalake(path_delta, df[['date_block_num', 'shop_id']].iloc[10:15], schema=schema, mode='append')"
   ]
  },
  {
   "cell_type": "code",
   "execution_count": null,
   "metadata": {},
   "outputs": [],
   "source": [
    "deltalake.DeltaTable(\".data/tests/delta/df_agg_monthly_oversampled\").to_pandas()"
   ]
  },
  {
   "cell_type": "code",
   "execution_count": null,
   "metadata": {},
   "outputs": [],
   "source": [
    "deltalake.table.TableAlterer(dt).add_columns(fields=deltalake.Field(name=\"item_id\", type=\"integer\", nullable=False))"
   ]
  },
  {
   "cell_type": "code",
   "execution_count": null,
   "metadata": {},
   "outputs": [],
   "source": [
    "deltalake.DeltaTable(path_delta).to_pandas()"
   ]
  },
  {
   "cell_type": "code",
   "execution_count": null,
   "metadata": {},
   "outputs": [],
   "source": [
    "df[['date_block_num', 'shop_id', 'item_id']]"
   ]
  },
  {
   "cell_type": "code",
   "execution_count": null,
   "metadata": {},
   "outputs": [],
   "source": [
    "deltalake.write_deltalake(path_delta, df[['date_block_num', 'shop_id', 'item_id']].iloc[15:20], mode='append')"
   ]
  },
  {
   "cell_type": "code",
   "execution_count": null,
   "metadata": {},
   "outputs": [],
   "source": []
  }
 ],
 "metadata": {
  "kernelspec": {
   "display_name": ".venv",
   "language": "python",
   "name": "python3"
  },
  "language_info": {
   "codemirror_mode": {
    "name": "ipython",
    "version": 3
   },
   "file_extension": ".py",
   "mimetype": "text/x-python",
   "name": "python",
   "nbconvert_exporter": "python",
   "pygments_lexer": "ipython3",
   "version": "3.10.14"
  }
 },
 "nbformat": 4,
 "nbformat_minor": 2
}
