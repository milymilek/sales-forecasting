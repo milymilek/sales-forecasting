{
 "cells": [
  {
   "cell_type": "code",
   "execution_count": 1,
   "metadata": {},
   "outputs": [],
   "source": [
    "%load_ext autoreload\n",
    "%autoreload 2"
   ]
  },
  {
   "cell_type": "code",
   "execution_count": 2,
   "metadata": {},
   "outputs": [],
   "source": [
    "import os\n",
    "os.chdir('..')"
   ]
  },
  {
   "cell_type": "code",
   "execution_count": 11,
   "metadata": {},
   "outputs": [],
   "source": [
    "import pandas as pd\n",
    "import numpy as np\n",
    "from matplotlib import pyplot as plt\n",
    "from sklearn import preprocessing, metrics\n",
    "from sklearn.compose import ColumnTransformer\n",
    "\n",
    "import torch\n",
    "from torch import nn, optim\n",
    "from torch.utils.data import Dataset, DataLoader\n",
    "\n",
    "from sales_forecasting.utils import timeseries_split\n",
    "from sales_forecasting.plot import plot_timeseries, plot_feature_importance\n",
    "from sales_forecasting.features import col_name"
   ]
  },
  {
   "cell_type": "code",
   "execution_count": 4,
   "metadata": {},
   "outputs": [],
   "source": [
    "df = pd.read_parquet(\".data/df_agg_monthly_oversampled.parquet\")"
   ]
  },
  {
   "cell_type": "code",
   "execution_count": 5,
   "metadata": {},
   "outputs": [],
   "source": [
    "train_split, valid_split = timeseries_split(df, max_month=33, col='date_block_num', continuous=False)\n",
    "train_test_split, test_split = timeseries_split(df, max_month=34, col='date_block_num', continuous=False)"
   ]
  },
  {
   "cell_type": "code",
   "execution_count": 6,
   "metadata": {},
   "outputs": [],
   "source": [
    "target_col = 'item_cnt_month'\n",
    "train_target, valid_target = train_split[target_col].clip(0, 20), valid_split[target_col].clip(0, 20)"
   ]
  },
  {
   "cell_type": "code",
   "execution_count": 7,
   "metadata": {},
   "outputs": [],
   "source": [
    "cols_to_drop = [target_col, 'date_block_num', 'shop_id', 'item_id']\n",
    "X_train, X_valid = train_split.drop(columns=cols_to_drop), valid_split.drop(columns=cols_to_drop)"
   ]
  },
  {
   "cell_type": "code",
   "execution_count": null,
   "metadata": {},
   "outputs": [],
   "source": []
  },
  {
   "cell_type": "markdown",
   "metadata": {},
   "source": [
    "# MLP"
   ]
  },
  {
   "cell_type": "code",
   "execution_count": 8,
   "metadata": {},
   "outputs": [],
   "source": [
    "ohe_cols = ['city_id', 'item_category_id', 'general_item_category_id', 'date_month']\n",
    "num_cols = [*col_name(\"lagged\", list(range(1, 12))), *col_name('rolling', [3, 6, 9]), 'months_since_last_buy']\n",
    "\n",
    "preprocessor = ColumnTransformer(\n",
    "    transformers=[\n",
    "        ('num', preprocessing.StandardScaler(), num_cols),\n",
    "        ('cat', preprocessing.OneHotEncoder(handle_unknown='ignore'), ohe_cols)\n",
    "    ]\n",
    ")\n",
    "\n",
    "X_train_preprocessed = preprocessor.fit_transform(X_train)\n",
    "X_valid_preprocessed = preprocessor.transform(X_valid)"
   ]
  },
  {
   "cell_type": "code",
   "execution_count": 9,
   "metadata": {},
   "outputs": [],
   "source": [
    "class SalesPredictionMLPModel(nn.Module):\n",
    "    def __init__(self, input_dim: int, hidden_dim: list[int], dropout_rate: float, batch_norm: bool = True):\n",
    "        super(SalesPredictionMLPModel, self).__init__()\n",
    "        \n",
    "        layers = []\n",
    "        dims = [input_dim] + hidden_dim\n",
    "        for in_dim, out_dim in zip(dims, dims[1:]):\n",
    "            layers.append(nn.Linear(in_dim, out_dim))\n",
    "            if batch_norm:\n",
    "                layers.append(nn.BatchNorm1d(out_dim))\n",
    "            layers.extend([nn.Dropout(p=dropout_rate), nn.ReLU()])\n",
    "        layers.append(nn.Linear(dims[-1], 1))\n",
    "\n",
    "        self.ff = nn.Sequential(*layers)\n",
    "\n",
    "    def forward(self, X: torch.Tensor) -> torch.Tensor:\n",
    "        return self.ff(X)"
   ]
  },
  {
   "cell_type": "code",
   "execution_count": 12,
   "metadata": {},
   "outputs": [],
   "source": [
    "class SalesMLPDataset(Dataset):\n",
    "    def __init__(self, X, y):\n",
    "        self.X = torch.tensor(X.toarray(), dtype=torch.float32)\n",
    "        self.y = torch.tensor(y.values, dtype=torch.float32).unsqueeze(1)\n",
    "\n",
    "    def __len__(self):\n",
    "        return len(self.y)\n",
    "\n",
    "    def __getitem__(self, idx):\n",
    "        return self.X[idx], self.y[idx]"
   ]
  },
  {
   "cell_type": "code",
   "execution_count": 27,
   "metadata": {},
   "outputs": [],
   "source": [
    "batch_size = 1024\n",
    "\n",
    "train_dataset = SalesMLPDataset(X_train_preprocessed, train_target)\n",
    "train_loader = DataLoader(train_dataset, batch_size=batch_size, shuffle=True)\n",
    "\n",
    "valid_dataset = SalesMLPDataset(X_valid_preprocessed, valid_target)\n",
    "valid_loader = DataLoader(valid_dataset, batch_size=batch_size, shuffle=False)\n",
    "\n",
    "dropout_rate = 0.2\n",
    "input_dim = X_train_preprocessed.shape[1]\n",
    "hidden_dim = [32, ]\n",
    "lr = 1e-3\n",
    "\n",
    "model = SalesPredictionMLPModel(input_dim, hidden_dim, dropout_rate=dropout_rate)\n",
    "criterion = nn.MSELoss()\n",
    "optimizer = optim.Adam(model.parameters(), lr=lr)\n"
   ]
  },
  {
   "cell_type": "code",
   "execution_count": 28,
   "metadata": {},
   "outputs": [
    {
     "data": {
      "text/plain": [
       "21137776"
      ]
     },
     "execution_count": 28,
     "metadata": {},
     "output_type": "execute_result"
    }
   ],
   "source": [
    "len(train_dataset)"
   ]
  },
  {
   "cell_type": "code",
   "execution_count": 29,
   "metadata": {},
   "outputs": [],
   "source": [
    "def train(model: nn.Module, optimizer, criterion, train_loader: DataLoader, val_loader: DataLoader, n_epochs: int):\n",
    "    history = {\n",
    "        'train_loss': [],\n",
    "        'val_loss': []\n",
    "    }\n",
    "\n",
    "    for epoch in range(n_epochs):\n",
    "        model.train()\n",
    "        running_loss = 0.0\n",
    "        for batch in train_loader:\n",
    "            data, target = batch\n",
    "\n",
    "            optimizer.zero_grad()\n",
    "            predictions = model(data)\n",
    "            loss = criterion(predictions, target)\n",
    "            loss.backward()\n",
    "            optimizer.step()\n",
    "            \n",
    "            running_loss += loss.item()\n",
    "        \n",
    "        model.eval()\n",
    "        val_loss = 0.0\n",
    "        with torch.no_grad():\n",
    "            for batch in val_loader:\n",
    "                data, target = batch\n",
    "\n",
    "                predictions = model(data)\n",
    "                loss = criterion(predictions, target)\n",
    "                \n",
    "                val_loss += loss.item()\n",
    "\n",
    "        history['train_loss'].append(running_loss / len(train_loader))    \n",
    "        history['val_loss'].append(val_loss / len(val_loader))\n",
    "        \n",
    "        print(f'Epoch [{epoch+1}/{n_epochs}], Train Loss: {running_loss/len(train_loader):.2f} \\\n",
    "    [rmse: {np.sqrt(running_loss/len(train_loader)):.2f}], Val Loss: {val_loss/len(val_loader):.2f} \\\n",
    "    [rmse: {np.sqrt(val_loss/len(val_loader)):.2f}]')\n",
    "    \n",
    "    return history"
   ]
  },
  {
   "cell_type": "code",
   "execution_count": 30,
   "metadata": {},
   "outputs": [
    {
     "name": "stdout",
     "output_type": "stream",
     "text": [
      "Epoch [1/10], Train Loss: 0.19     [rmse: 0.44], Val Loss: 1.09     [rmse: 1.04]\n",
      "Epoch [2/10], Train Loss: 0.18     [rmse: 0.42], Val Loss: 0.46     [rmse: 0.68]\n"
     ]
    },
    {
     "ename": "KeyboardInterrupt",
     "evalue": "",
     "output_type": "error",
     "traceback": [
      "\u001b[0;31m---------------------------------------------------------------------------\u001b[0m",
      "\u001b[0;31mKeyboardInterrupt\u001b[0m                         Traceback (most recent call last)",
      "Cell \u001b[0;32mIn[30], line 1\u001b[0m\n\u001b[0;32m----> 1\u001b[0m \u001b[43mtrain\u001b[49m\u001b[43m(\u001b[49m\u001b[43mmodel\u001b[49m\u001b[43m,\u001b[49m\u001b[43m \u001b[49m\u001b[43moptimizer\u001b[49m\u001b[43m,\u001b[49m\u001b[43m \u001b[49m\u001b[43mcriterion\u001b[49m\u001b[43m,\u001b[49m\u001b[43m \u001b[49m\u001b[43mtrain_loader\u001b[49m\u001b[43m,\u001b[49m\u001b[43m \u001b[49m\u001b[43mvalid_loader\u001b[49m\u001b[43m,\u001b[49m\u001b[43m \u001b[49m\u001b[43mn_epochs\u001b[49m\u001b[38;5;241;43m=\u001b[39;49m\u001b[38;5;241;43m10\u001b[39;49m\u001b[43m)\u001b[49m\n",
      "Cell \u001b[0;32mIn[29], line 14\u001b[0m, in \u001b[0;36mtrain\u001b[0;34m(model, optimizer, criterion, train_loader, val_loader, n_epochs)\u001b[0m\n\u001b[1;32m     11\u001b[0m data, target \u001b[38;5;241m=\u001b[39m batch\n\u001b[1;32m     13\u001b[0m optimizer\u001b[38;5;241m.\u001b[39mzero_grad()\n\u001b[0;32m---> 14\u001b[0m predictions \u001b[38;5;241m=\u001b[39m \u001b[43mmodel\u001b[49m\u001b[43m(\u001b[49m\u001b[43mdata\u001b[49m\u001b[43m)\u001b[49m\n\u001b[1;32m     15\u001b[0m loss \u001b[38;5;241m=\u001b[39m criterion(predictions, target)\n\u001b[1;32m     16\u001b[0m loss\u001b[38;5;241m.\u001b[39mbackward()\n",
      "File \u001b[0;32m~/Documents/uv/MOW_2/lab/sales_forecasting/.venv/lib/python3.10/site-packages/torch/nn/modules/module.py:1553\u001b[0m, in \u001b[0;36mModule._wrapped_call_impl\u001b[0;34m(self, *args, **kwargs)\u001b[0m\n\u001b[1;32m   1551\u001b[0m     \u001b[38;5;28;01mreturn\u001b[39;00m \u001b[38;5;28mself\u001b[39m\u001b[38;5;241m.\u001b[39m_compiled_call_impl(\u001b[38;5;241m*\u001b[39margs, \u001b[38;5;241m*\u001b[39m\u001b[38;5;241m*\u001b[39mkwargs)  \u001b[38;5;66;03m# type: ignore[misc]\u001b[39;00m\n\u001b[1;32m   1552\u001b[0m \u001b[38;5;28;01melse\u001b[39;00m:\n\u001b[0;32m-> 1553\u001b[0m     \u001b[38;5;28;01mreturn\u001b[39;00m \u001b[38;5;28;43mself\u001b[39;49m\u001b[38;5;241;43m.\u001b[39;49m\u001b[43m_call_impl\u001b[49m\u001b[43m(\u001b[49m\u001b[38;5;241;43m*\u001b[39;49m\u001b[43margs\u001b[49m\u001b[43m,\u001b[49m\u001b[43m \u001b[49m\u001b[38;5;241;43m*\u001b[39;49m\u001b[38;5;241;43m*\u001b[39;49m\u001b[43mkwargs\u001b[49m\u001b[43m)\u001b[49m\n",
      "File \u001b[0;32m~/Documents/uv/MOW_2/lab/sales_forecasting/.venv/lib/python3.10/site-packages/torch/nn/modules/module.py:1562\u001b[0m, in \u001b[0;36mModule._call_impl\u001b[0;34m(self, *args, **kwargs)\u001b[0m\n\u001b[1;32m   1557\u001b[0m \u001b[38;5;66;03m# If we don't have any hooks, we want to skip the rest of the logic in\u001b[39;00m\n\u001b[1;32m   1558\u001b[0m \u001b[38;5;66;03m# this function, and just call forward.\u001b[39;00m\n\u001b[1;32m   1559\u001b[0m \u001b[38;5;28;01mif\u001b[39;00m \u001b[38;5;129;01mnot\u001b[39;00m (\u001b[38;5;28mself\u001b[39m\u001b[38;5;241m.\u001b[39m_backward_hooks \u001b[38;5;129;01mor\u001b[39;00m \u001b[38;5;28mself\u001b[39m\u001b[38;5;241m.\u001b[39m_backward_pre_hooks \u001b[38;5;129;01mor\u001b[39;00m \u001b[38;5;28mself\u001b[39m\u001b[38;5;241m.\u001b[39m_forward_hooks \u001b[38;5;129;01mor\u001b[39;00m \u001b[38;5;28mself\u001b[39m\u001b[38;5;241m.\u001b[39m_forward_pre_hooks\n\u001b[1;32m   1560\u001b[0m         \u001b[38;5;129;01mor\u001b[39;00m _global_backward_pre_hooks \u001b[38;5;129;01mor\u001b[39;00m _global_backward_hooks\n\u001b[1;32m   1561\u001b[0m         \u001b[38;5;129;01mor\u001b[39;00m _global_forward_hooks \u001b[38;5;129;01mor\u001b[39;00m _global_forward_pre_hooks):\n\u001b[0;32m-> 1562\u001b[0m     \u001b[38;5;28;01mreturn\u001b[39;00m \u001b[43mforward_call\u001b[49m\u001b[43m(\u001b[49m\u001b[38;5;241;43m*\u001b[39;49m\u001b[43margs\u001b[49m\u001b[43m,\u001b[49m\u001b[43m \u001b[49m\u001b[38;5;241;43m*\u001b[39;49m\u001b[38;5;241;43m*\u001b[39;49m\u001b[43mkwargs\u001b[49m\u001b[43m)\u001b[49m\n\u001b[1;32m   1564\u001b[0m \u001b[38;5;28;01mtry\u001b[39;00m:\n\u001b[1;32m   1565\u001b[0m     result \u001b[38;5;241m=\u001b[39m \u001b[38;5;28;01mNone\u001b[39;00m\n",
      "Cell \u001b[0;32mIn[9], line 17\u001b[0m, in \u001b[0;36mSalesPredictionMLPModel.forward\u001b[0;34m(self, X)\u001b[0m\n\u001b[1;32m     16\u001b[0m \u001b[38;5;28;01mdef\u001b[39;00m \u001b[38;5;21mforward\u001b[39m(\u001b[38;5;28mself\u001b[39m, X: torch\u001b[38;5;241m.\u001b[39mTensor) \u001b[38;5;241m-\u001b[39m\u001b[38;5;241m>\u001b[39m torch\u001b[38;5;241m.\u001b[39mTensor:\n\u001b[0;32m---> 17\u001b[0m     \u001b[38;5;28;01mreturn\u001b[39;00m \u001b[38;5;28;43mself\u001b[39;49m\u001b[38;5;241;43m.\u001b[39;49m\u001b[43mff\u001b[49m\u001b[43m(\u001b[49m\u001b[43mX\u001b[49m\u001b[43m)\u001b[49m\n",
      "File \u001b[0;32m~/Documents/uv/MOW_2/lab/sales_forecasting/.venv/lib/python3.10/site-packages/torch/nn/modules/module.py:1553\u001b[0m, in \u001b[0;36mModule._wrapped_call_impl\u001b[0;34m(self, *args, **kwargs)\u001b[0m\n\u001b[1;32m   1551\u001b[0m     \u001b[38;5;28;01mreturn\u001b[39;00m \u001b[38;5;28mself\u001b[39m\u001b[38;5;241m.\u001b[39m_compiled_call_impl(\u001b[38;5;241m*\u001b[39margs, \u001b[38;5;241m*\u001b[39m\u001b[38;5;241m*\u001b[39mkwargs)  \u001b[38;5;66;03m# type: ignore[misc]\u001b[39;00m\n\u001b[1;32m   1552\u001b[0m \u001b[38;5;28;01melse\u001b[39;00m:\n\u001b[0;32m-> 1553\u001b[0m     \u001b[38;5;28;01mreturn\u001b[39;00m \u001b[38;5;28;43mself\u001b[39;49m\u001b[38;5;241;43m.\u001b[39;49m\u001b[43m_call_impl\u001b[49m\u001b[43m(\u001b[49m\u001b[38;5;241;43m*\u001b[39;49m\u001b[43margs\u001b[49m\u001b[43m,\u001b[49m\u001b[43m \u001b[49m\u001b[38;5;241;43m*\u001b[39;49m\u001b[38;5;241;43m*\u001b[39;49m\u001b[43mkwargs\u001b[49m\u001b[43m)\u001b[49m\n",
      "File \u001b[0;32m~/Documents/uv/MOW_2/lab/sales_forecasting/.venv/lib/python3.10/site-packages/torch/nn/modules/module.py:1562\u001b[0m, in \u001b[0;36mModule._call_impl\u001b[0;34m(self, *args, **kwargs)\u001b[0m\n\u001b[1;32m   1557\u001b[0m \u001b[38;5;66;03m# If we don't have any hooks, we want to skip the rest of the logic in\u001b[39;00m\n\u001b[1;32m   1558\u001b[0m \u001b[38;5;66;03m# this function, and just call forward.\u001b[39;00m\n\u001b[1;32m   1559\u001b[0m \u001b[38;5;28;01mif\u001b[39;00m \u001b[38;5;129;01mnot\u001b[39;00m (\u001b[38;5;28mself\u001b[39m\u001b[38;5;241m.\u001b[39m_backward_hooks \u001b[38;5;129;01mor\u001b[39;00m \u001b[38;5;28mself\u001b[39m\u001b[38;5;241m.\u001b[39m_backward_pre_hooks \u001b[38;5;129;01mor\u001b[39;00m \u001b[38;5;28mself\u001b[39m\u001b[38;5;241m.\u001b[39m_forward_hooks \u001b[38;5;129;01mor\u001b[39;00m \u001b[38;5;28mself\u001b[39m\u001b[38;5;241m.\u001b[39m_forward_pre_hooks\n\u001b[1;32m   1560\u001b[0m         \u001b[38;5;129;01mor\u001b[39;00m _global_backward_pre_hooks \u001b[38;5;129;01mor\u001b[39;00m _global_backward_hooks\n\u001b[1;32m   1561\u001b[0m         \u001b[38;5;129;01mor\u001b[39;00m _global_forward_hooks \u001b[38;5;129;01mor\u001b[39;00m _global_forward_pre_hooks):\n\u001b[0;32m-> 1562\u001b[0m     \u001b[38;5;28;01mreturn\u001b[39;00m \u001b[43mforward_call\u001b[49m\u001b[43m(\u001b[49m\u001b[38;5;241;43m*\u001b[39;49m\u001b[43margs\u001b[49m\u001b[43m,\u001b[49m\u001b[43m \u001b[49m\u001b[38;5;241;43m*\u001b[39;49m\u001b[38;5;241;43m*\u001b[39;49m\u001b[43mkwargs\u001b[49m\u001b[43m)\u001b[49m\n\u001b[1;32m   1564\u001b[0m \u001b[38;5;28;01mtry\u001b[39;00m:\n\u001b[1;32m   1565\u001b[0m     result \u001b[38;5;241m=\u001b[39m \u001b[38;5;28;01mNone\u001b[39;00m\n",
      "File \u001b[0;32m~/Documents/uv/MOW_2/lab/sales_forecasting/.venv/lib/python3.10/site-packages/torch/nn/modules/container.py:219\u001b[0m, in \u001b[0;36mSequential.forward\u001b[0;34m(self, input)\u001b[0m\n\u001b[1;32m    217\u001b[0m \u001b[38;5;28;01mdef\u001b[39;00m \u001b[38;5;21mforward\u001b[39m(\u001b[38;5;28mself\u001b[39m, \u001b[38;5;28minput\u001b[39m):\n\u001b[1;32m    218\u001b[0m     \u001b[38;5;28;01mfor\u001b[39;00m module \u001b[38;5;129;01min\u001b[39;00m \u001b[38;5;28mself\u001b[39m:\n\u001b[0;32m--> 219\u001b[0m         \u001b[38;5;28minput\u001b[39m \u001b[38;5;241m=\u001b[39m \u001b[43mmodule\u001b[49m\u001b[43m(\u001b[49m\u001b[38;5;28;43minput\u001b[39;49m\u001b[43m)\u001b[49m\n\u001b[1;32m    220\u001b[0m     \u001b[38;5;28;01mreturn\u001b[39;00m \u001b[38;5;28minput\u001b[39m\n",
      "File \u001b[0;32m~/Documents/uv/MOW_2/lab/sales_forecasting/.venv/lib/python3.10/site-packages/torch/nn/modules/module.py:1553\u001b[0m, in \u001b[0;36mModule._wrapped_call_impl\u001b[0;34m(self, *args, **kwargs)\u001b[0m\n\u001b[1;32m   1551\u001b[0m     \u001b[38;5;28;01mreturn\u001b[39;00m \u001b[38;5;28mself\u001b[39m\u001b[38;5;241m.\u001b[39m_compiled_call_impl(\u001b[38;5;241m*\u001b[39margs, \u001b[38;5;241m*\u001b[39m\u001b[38;5;241m*\u001b[39mkwargs)  \u001b[38;5;66;03m# type: ignore[misc]\u001b[39;00m\n\u001b[1;32m   1552\u001b[0m \u001b[38;5;28;01melse\u001b[39;00m:\n\u001b[0;32m-> 1553\u001b[0m     \u001b[38;5;28;01mreturn\u001b[39;00m \u001b[38;5;28;43mself\u001b[39;49m\u001b[38;5;241;43m.\u001b[39;49m\u001b[43m_call_impl\u001b[49m\u001b[43m(\u001b[49m\u001b[38;5;241;43m*\u001b[39;49m\u001b[43margs\u001b[49m\u001b[43m,\u001b[49m\u001b[43m \u001b[49m\u001b[38;5;241;43m*\u001b[39;49m\u001b[38;5;241;43m*\u001b[39;49m\u001b[43mkwargs\u001b[49m\u001b[43m)\u001b[49m\n",
      "File \u001b[0;32m~/Documents/uv/MOW_2/lab/sales_forecasting/.venv/lib/python3.10/site-packages/torch/nn/modules/module.py:1562\u001b[0m, in \u001b[0;36mModule._call_impl\u001b[0;34m(self, *args, **kwargs)\u001b[0m\n\u001b[1;32m   1557\u001b[0m \u001b[38;5;66;03m# If we don't have any hooks, we want to skip the rest of the logic in\u001b[39;00m\n\u001b[1;32m   1558\u001b[0m \u001b[38;5;66;03m# this function, and just call forward.\u001b[39;00m\n\u001b[1;32m   1559\u001b[0m \u001b[38;5;28;01mif\u001b[39;00m \u001b[38;5;129;01mnot\u001b[39;00m (\u001b[38;5;28mself\u001b[39m\u001b[38;5;241m.\u001b[39m_backward_hooks \u001b[38;5;129;01mor\u001b[39;00m \u001b[38;5;28mself\u001b[39m\u001b[38;5;241m.\u001b[39m_backward_pre_hooks \u001b[38;5;129;01mor\u001b[39;00m \u001b[38;5;28mself\u001b[39m\u001b[38;5;241m.\u001b[39m_forward_hooks \u001b[38;5;129;01mor\u001b[39;00m \u001b[38;5;28mself\u001b[39m\u001b[38;5;241m.\u001b[39m_forward_pre_hooks\n\u001b[1;32m   1560\u001b[0m         \u001b[38;5;129;01mor\u001b[39;00m _global_backward_pre_hooks \u001b[38;5;129;01mor\u001b[39;00m _global_backward_hooks\n\u001b[1;32m   1561\u001b[0m         \u001b[38;5;129;01mor\u001b[39;00m _global_forward_hooks \u001b[38;5;129;01mor\u001b[39;00m _global_forward_pre_hooks):\n\u001b[0;32m-> 1562\u001b[0m     \u001b[38;5;28;01mreturn\u001b[39;00m \u001b[43mforward_call\u001b[49m\u001b[43m(\u001b[49m\u001b[38;5;241;43m*\u001b[39;49m\u001b[43margs\u001b[49m\u001b[43m,\u001b[49m\u001b[43m \u001b[49m\u001b[38;5;241;43m*\u001b[39;49m\u001b[38;5;241;43m*\u001b[39;49m\u001b[43mkwargs\u001b[49m\u001b[43m)\u001b[49m\n\u001b[1;32m   1564\u001b[0m \u001b[38;5;28;01mtry\u001b[39;00m:\n\u001b[1;32m   1565\u001b[0m     result \u001b[38;5;241m=\u001b[39m \u001b[38;5;28;01mNone\u001b[39;00m\n",
      "File \u001b[0;32m~/Documents/uv/MOW_2/lab/sales_forecasting/.venv/lib/python3.10/site-packages/torch/nn/modules/linear.py:117\u001b[0m, in \u001b[0;36mLinear.forward\u001b[0;34m(self, input)\u001b[0m\n\u001b[1;32m    116\u001b[0m \u001b[38;5;28;01mdef\u001b[39;00m \u001b[38;5;21mforward\u001b[39m(\u001b[38;5;28mself\u001b[39m, \u001b[38;5;28minput\u001b[39m: Tensor) \u001b[38;5;241m-\u001b[39m\u001b[38;5;241m>\u001b[39m Tensor:\n\u001b[0;32m--> 117\u001b[0m     \u001b[38;5;28;01mreturn\u001b[39;00m \u001b[43mF\u001b[49m\u001b[38;5;241;43m.\u001b[39;49m\u001b[43mlinear\u001b[49m\u001b[43m(\u001b[49m\u001b[38;5;28;43minput\u001b[39;49m\u001b[43m,\u001b[49m\u001b[43m \u001b[49m\u001b[38;5;28;43mself\u001b[39;49m\u001b[38;5;241;43m.\u001b[39;49m\u001b[43mweight\u001b[49m\u001b[43m,\u001b[49m\u001b[43m \u001b[49m\u001b[38;5;28;43mself\u001b[39;49m\u001b[38;5;241;43m.\u001b[39;49m\u001b[43mbias\u001b[49m\u001b[43m)\u001b[49m\n",
      "\u001b[0;31mKeyboardInterrupt\u001b[0m: "
     ]
    }
   ],
   "source": [
    "train(model, optimizer, criterion, train_loader, valid_loader, n_epochs=10)"
   ]
  },
  {
   "cell_type": "code",
   "execution_count": null,
   "metadata": {},
   "outputs": [],
   "source": []
  },
  {
   "cell_type": "code",
   "execution_count": null,
   "metadata": {},
   "outputs": [],
   "source": []
  },
  {
   "cell_type": "code",
   "execution_count": null,
   "metadata": {},
   "outputs": [],
   "source": [
    "def create_time_sequence_vectors(df: pd.DataFrame, maxlen: int, target_month: int) -> np.ndarray:\n",
    "    target_index = df['date_block_num'] == target_month\n",
    "    x = df[~target_index]\n",
    "    y = df[target_index]\n",
    "\n",
    "    if y.empty:\n",
    "        y = [np.nan]\n",
    "    else:\n",
    "        y = y['item_cnt_month'].values\n",
    "    \n",
    "    v = np.zeros(maxlen)\n",
    "    x['date_block_num'] = x['date_block_num'].astype(int)\n",
    "    v[x['date_block_num'].values] = x['item_cnt_month'].values\n",
    "\n",
    "    return pd.DataFrame({'monthly_sales_array': [v], 'y': y})\n",
    "\n",
    "def transform_data_to_features(df: pd.DataFrame, max_seq_len: int) -> pd.DataFrame:\n",
    "    target_month = df['date_block_num'].max()\n",
    "\n",
    "    df = df.merge(\n",
    "        df[df.date_block_num == target_month][['shop_id', 'item_id']],\n",
    "        on=['shop_id', 'item_id'],\n",
    "        how='right'    \n",
    "    )\n",
    "    \n",
    "    padded_seqs = df.groupby([\"shop_id\", \"item_id\"]) \\\n",
    "        .apply(create_time_sequence_vectors, maxlen=max_seq_len, target_month=target_month) \\\n",
    "        .reset_index() \\\n",
    "        .rename(columns={0: 'monthly_sales_array'}, inplace=False) \\\n",
    "        .drop(columns=['level_2'])\n",
    "    \n",
    "    return padded_seqs\n",
    "\n",
    "df_train_vectors = transform_data_to_features(train_split_featurized, 35)\n",
    "df_val_vectors = transform_data_to_features(test_split_featurized, 35)"
   ]
  },
  {
   "cell_type": "code",
   "execution_count": null,
   "metadata": {},
   "outputs": [],
   "source": [
    "df_train = df_train_vectors.merge(pd.read_csv(\".data/items.csv\")[['item_id', 'item_category_id']], on='item_id', how='left')\n",
    "df_val = df_val_vectors.merge(pd.read_csv(\".data/items.csv\")[['item_id', 'item_category_id']], on='item_id', how='left')"
   ]
  },
  {
   "cell_type": "code",
   "execution_count": null,
   "metadata": {},
   "outputs": [],
   "source": [
    "df_train['y'] = df_train['y'].clip(0, 20)\n",
    "df_val['y'] = df_val['y'].clip(0, 20)"
   ]
  },
  {
   "cell_type": "code",
   "execution_count": null,
   "metadata": {},
   "outputs": [],
   "source": [
    "class SalesDataset(Dataset):\n",
    "    def __init__(self, df):\n",
    "        self.df = df\n",
    "        self.shop_ids = torch.tensor(self.df['shop_id'].values, dtype=torch.long).unsqueeze(1)\n",
    "        self.item_ids = torch.tensor(self.df['item_id'].values, dtype=torch.long).unsqueeze(1)\n",
    "        self.category_ids = torch.tensor(self.df['item_category_id'].values, dtype=torch.long).unsqueeze(1)\n",
    "        self.sales_array = torch.tensor(np.vstack(self.df['monthly_sales_array'].values), dtype=torch.float32).unsqueeze(2)\n",
    "        self.targets = torch.tensor(self.df['y'].values, dtype=torch.float32).unsqueeze(1)\n",
    "\n",
    "    def __len__(self):\n",
    "        return len(self.df)\n",
    "\n",
    "    def __getitem__(self, idx):\n",
    "        return (self.shop_ids[idx], self.item_ids[idx], self.category_ids[idx], self.sales_array[idx], self.targets[idx])\n"
   ]
  },
  {
   "cell_type": "code",
   "execution_count": null,
   "metadata": {},
   "outputs": [],
   "source": [
    "df_shop_2 = df_train[df_train['shop_id'] == 2].head(20)\n",
    "\n",
    "# Set up the plot\n",
    "plt.figure(figsize=(20, 30))\n",
    "\n",
    "# Iterate over the rows and plot the monthly_sales_array for each item_id\n",
    "for i, (_, row) in enumerate(df_shop_2.iterrows(), 1):\n",
    "    \n",
    "    sales_array = row.monthly_sales_array[:32]\n",
    "    \n",
    "    plt.subplot(len(df_shop_2) // 2 + 1, 2, i)\n",
    "    plt.plot(sales_array, label='Sales')\n",
    "\n",
    "    non_zero_values = np.where(sales_array != 0)[0]\n",
    "    plt.scatter(non_zero_values, sales_array[non_zero_values], color='blue')\n",
    "\n",
    "    # Plot the continuation to the target value\n",
    "    plt.plot([31, 32], [sales_array[-1], row.y], color='red')\n",
    "    plt.scatter(32, row.y, color='red', label='Target')\n",
    "    \n",
    "    plt.title(f'Item ID: {row.item_id}')\n",
    "    plt.xlabel('Month')\n",
    "    plt.ylabel('Sales')\n",
    "\n",
    "plt.tight_layout()\n",
    "plt.show()"
   ]
  },
  {
   "cell_type": "code",
   "execution_count": null,
   "metadata": {},
   "outputs": [],
   "source": []
  },
  {
   "cell_type": "code",
   "execution_count": null,
   "metadata": {},
   "outputs": [],
   "source": [
    "class SalesPredictionModel(nn.Module):\n",
    "    def __init__(self, num_shops, num_items, num_categories, embedding_size, dropout_rate):\n",
    "        super(SalesPredictionModel, self).__init__()\n",
    "        \n",
    "        # Embedding layers for categorical variables\n",
    "        self._embedding_size = embedding_size\n",
    "        self.shop_embedding = nn.Embedding(num_embeddings=num_shops, embedding_dim=embedding_size)\n",
    "        self.item_embedding = nn.Embedding(num_embeddings=num_items, embedding_dim=embedding_size)\n",
    "        self.category_embedding = nn.Embedding(num_embeddings=num_categories, embedding_dim=embedding_size)\n",
    "        self.embedding_dropout = nn.Dropout(0.1)\n",
    "\n",
    "        # LSTM layer\n",
    "        self._lstm_hidden_size = 2 * embedding_size\n",
    "        self.lstm = nn.LSTM(input_size=1, hidden_size=self._lstm_hidden_size, batch_first=True)\n",
    "        \n",
    "        # Fully connected layers\n",
    "        self._linear_input_size = self._embedding_size * 3 + self._lstm_hidden_size + 3\n",
    "        self._dropout_rate = dropout_rate\n",
    "        self.batch_norm = nn.BatchNorm1d(self._linear_input_size)\n",
    "        self.ff = nn.Sequential(\n",
    "            nn.Linear(self._linear_input_size, 16),\n",
    "            nn.ReLU(),\n",
    "            nn.Dropout(self._dropout_rate),\n",
    "            nn.Linear(16, 8),\n",
    "            nn.ReLU(),\n",
    "            nn.Dropout(self._dropout_rate),\n",
    "            nn.ReLU(),\n",
    "            nn.Linear(8, 1)\n",
    "        )\n",
    "\n",
    "    def cross_prod(self, x: torch.Tensor, y: torch.Tensor) -> torch.Tensor:\n",
    "        return torch.sum((x * y), axis=1).unsqueeze(1)\n",
    "\n",
    "    def forward(self, shop_id, item_id, category_id, sales_array):\n",
    "        shop_embed = self.shop_embedding(shop_id).squeeze(1)\n",
    "        item_embed = self.item_embedding(item_id).squeeze(1)\n",
    "        category_embed = self.category_embedding(category_id).squeeze(1)\n",
    "\n",
    "        shop_item_cross = self.cross_prod(shop_embed, item_embed)\n",
    "        shop_category_cross = self.cross_prod(shop_embed, category_embed)\n",
    "        shop_item_category_cross = self.cross_prod(shop_item_cross, category_embed)\n",
    "\n",
    "        shop_embed, item_embed, category_embed = (self.embedding_dropout(_) for _ in [shop_embed, item_embed, category_embed])\n",
    "        \n",
    "        _, (lstm_hidden_state, _) = self.lstm(sales_array)\n",
    "        lstm_hidden_state = lstm_hidden_state.squeeze(0)\n",
    "\n",
    "        concatenated = torch.cat([\n",
    "            shop_embed, item_embed, category_embed, lstm_hidden_state,\n",
    "            shop_item_cross, shop_category_cross, shop_item_category_cross\n",
    "        ], dim=1)\n",
    "        concatenated = self.batch_norm(concatenated)\n",
    "        \n",
    "        output = self.ff(concatenated)\n",
    "        \n",
    "        return output"
   ]
  },
  {
   "cell_type": "code",
   "execution_count": null,
   "metadata": {},
   "outputs": [],
   "source": [
    "batch_size = 32\n",
    "\n",
    "# Instantiate the dataset\n",
    "train_dataset = SalesDataset(df_train)\n",
    "train_loader = DataLoader(train_dataset, batch_size=batch_size, shuffle=True)\n",
    "\n",
    "val_dataset = SalesDataset(df_val)\n",
    "val_loader = DataLoader(val_dataset, batch_size=batch_size, shuffle=False)\n",
    "\n",
    "# Parameters\n",
    "num_shops = df_train['shop_id'].max() + 1        # Example: total unique shops\n",
    "num_items = df_train['item_id'].max() + 1       # Example: total unique items\n",
    "num_categories = df_train['item_category_id'].max() + 1    # Example: total unique categories\n",
    "embedding_size = 8     # Embedding size for each categorical feature\n",
    "dropout_rate = 0.3\n",
    "lr = 1e-3\n",
    "\n",
    "# Instantiate the model\n",
    "model = SalesPredictionModel(num_shops, num_items, num_categories, embedding_size, dropout_rate=dropout_rate)\n",
    "\n",
    "# Loss function and optimizer\n",
    "criterion = nn.MSELoss()\n",
    "optimizer = optim.Adam(model.parameters(), lr=lr)\n"
   ]
  },
  {
   "cell_type": "code",
   "execution_count": null,
   "metadata": {},
   "outputs": [],
   "source": [
    "# inp = next(iter(dataloader))\n",
    "# model = SalesPredictionModel(num_shops, num_items, num_categories, embedding_size)\n",
    "# model(*inp[:-1]).shape"
   ]
  },
  {
   "cell_type": "code",
   "execution_count": null,
   "metadata": {},
   "outputs": [],
   "source": [
    "model"
   ]
  },
  {
   "cell_type": "code",
   "execution_count": null,
   "metadata": {},
   "outputs": [],
   "source": [
    "num_epochs = 20\n",
    "\n",
    "history = {\n",
    "    'train_loss': [],\n",
    "    'val_loss': []\n",
    "}\n",
    "\n",
    "for epoch in range(num_epochs):\n",
    "    model.train()\n",
    "    running_loss = 0.0\n",
    "    for batch in train_loader:\n",
    "        shop_ids, item_ids, category_ids, sales_arrays, targets = batch\n",
    "\n",
    "        optimizer.zero_grad()\n",
    "        predictions = model(shop_ids, item_ids, category_ids, sales_arrays)\n",
    "        loss = criterion(predictions, targets)\n",
    "        loss.backward()\n",
    "        optimizer.step()\n",
    "        \n",
    "        running_loss += loss.item()\n",
    "    \n",
    "    model.eval()\n",
    "    val_loss = 0.0\n",
    "    with torch.no_grad():\n",
    "        for batch in val_loader:\n",
    "            shop_ids, item_ids, category_ids, sales_arrays, targets = batch\n",
    "\n",
    "            predictions = model(shop_ids, item_ids, category_ids, sales_arrays)\n",
    "            loss = criterion(predictions, targets)\n",
    "            \n",
    "            val_loss += loss.item()\n",
    "\n",
    "    history['train_loss'].append(running_loss / len(train_loader))    \n",
    "    history['val_loss'].append(val_loss / len(val_loader))\n",
    "    \n",
    "    print(f'Epoch [{epoch+1}/{num_epochs}], Train Loss: {running_loss/len(train_loader):.2f} \\\n",
    "[rmse: {np.sqrt(running_loss/len(train_loader)):.2f}], Val Loss: {val_loss/len(val_loader):.2f} \\\n",
    "[rmse: {np.sqrt(val_loss/len(val_loader)):.2f}]')"
   ]
  },
  {
   "cell_type": "code",
   "execution_count": null,
   "metadata": {},
   "outputs": [],
   "source": [
    "plt.plot(history['train_loss'], label='Train Loss')\n",
    "plt.plot(history['val_loss'], label='Validation Loss')\n",
    "plt.xlabel('Epochs')\n",
    "plt.ylabel('Loss')\n",
    "plt.title('Training and Validation Loss Over Time')\n",
    "plt.legend()\n",
    "plt.show()"
   ]
  },
  {
   "cell_type": "code",
   "execution_count": null,
   "metadata": {},
   "outputs": [],
   "source": [
    "# Instantiate the dataset\n",
    "train_dataset = SalesDataset(df_val)\n",
    "train_loader = DataLoader(train_dataset, batch_size=batch_size, shuffle=True)\n",
    "\n",
    "# Parameters\n",
    "num_shops = df_val['shop_id'].max() + 1        # Example: total unique shops\n",
    "num_items = df_val['item_id'].max() + 1       # Example: total unique items\n",
    "num_categories = df_val['item_category_id'].max() + 1    # Example: total unique categories\n",
    "\n",
    "# Instantiate the model\n",
    "model = SalesPredictionModel(num_shops, num_items, num_categories, embedding_size, dropout_rate=dropout_rate)\n",
    "\n",
    "# Loss function and optimizer\n",
    "criterion = nn.MSELoss()\n",
    "optimizer = optim.Adam(model.parameters(), lr=lr)\n"
   ]
  },
  {
   "cell_type": "code",
   "execution_count": null,
   "metadata": {},
   "outputs": [],
   "source": [
    "num_epochs = 33\n",
    "\n",
    "history = {\n",
    "    'train_loss': []\n",
    "}\n",
    "\n",
    "for epoch in range(num_epochs):\n",
    "    model.train()\n",
    "    running_loss = 0.0\n",
    "    for batch in train_loader:\n",
    "        shop_ids, item_ids, category_ids, sales_arrays, targets = batch\n",
    "\n",
    "        optimizer.zero_grad()\n",
    "        predictions = model(shop_ids, item_ids, category_ids, sales_arrays)\n",
    "        loss = criterion(predictions, targets)\n",
    "        loss.backward()\n",
    "        optimizer.step()\n",
    "        \n",
    "        running_loss += loss.item()\n",
    "\n",
    "    history['train_loss'].append(running_loss / len(train_loader))    \n",
    "    \n",
    "    print(f'Epoch [{epoch+1}/{num_epochs}], Train Loss: {running_loss/len(train_loader):.2f} \\\n",
    "[rmse: {np.sqrt(running_loss/len(train_loader)):.2f}]')"
   ]
  },
  {
   "cell_type": "code",
   "execution_count": null,
   "metadata": {},
   "outputs": [],
   "source": [
    "df_test_raw = pd.read_csv(\".data/test.csv\", index_col=[0]).assign(date_block_num=34, item_cnt_month=np.nan)\n",
    "df_test_vectors = transform_data_to_features(pd.concat([test_split_featurized, df_test_raw]), 35)\n",
    "df_test = df_test_vectors.merge(pd.read_csv(\".data/items.csv\")[['item_id', 'item_category_id']], on='item_id', how='left')"
   ]
  },
  {
   "cell_type": "code",
   "execution_count": null,
   "metadata": {},
   "outputs": [],
   "source": [
    "test_dataset = SalesDataset(df_test)"
   ]
  },
  {
   "cell_type": "code",
   "execution_count": null,
   "metadata": {},
   "outputs": [],
   "source": [
    "preds = []\n",
    "\n",
    "model.eval()\n",
    "with torch.no_grad():\n",
    "    for i in range(len(test_dataset)):\n",
    "        elem = (_.unsqueeze(0) for _ in test_dataset[i])\n",
    "        shop_ids, item_ids, category_ids, sales_arrays, _ = elem\n",
    "\n",
    "        predictions = model(shop_ids, item_ids, category_ids, sales_arrays)\n",
    "        preds.append(predictions.item())"
   ]
  },
  {
   "cell_type": "code",
   "execution_count": null,
   "metadata": {},
   "outputs": [],
   "source": [
    "df_submission = df_test_raw \\\n",
    "    .reset_index()[['ID', 'shop_id', 'item_id']] \\\n",
    "    .merge(\n",
    "        df_test.assign(predictions=preds)[['shop_id', 'item_id', 'predictions']], \n",
    "        on=['shop_id', 'item_id'], \n",
    "        how='left'\n",
    "    )[['ID', 'predictions']] \\\n",
    "    .rename(columns={'predictions': 'item_cnt_month'})"
   ]
  },
  {
   "cell_type": "code",
   "execution_count": null,
   "metadata": {},
   "outputs": [],
   "source": [
    "df_submission['item_cnt_month'] = df_submission['item_cnt_month'].clip(0, 20)"
   ]
  },
  {
   "cell_type": "code",
   "execution_count": null,
   "metadata": {},
   "outputs": [],
   "source": [
    "df_submission.to_csv(\".data/submission_lstm2.csv\", index=False)"
   ]
  },
  {
   "cell_type": "code",
   "execution_count": null,
   "metadata": {},
   "outputs": [],
   "source": []
  }
 ],
 "metadata": {
  "kernelspec": {
   "display_name": ".venv",
   "language": "python",
   "name": "python3"
  },
  "language_info": {
   "codemirror_mode": {
    "name": "ipython",
    "version": 3
   },
   "file_extension": ".py",
   "mimetype": "text/x-python",
   "name": "python",
   "nbconvert_exporter": "python",
   "pygments_lexer": "ipython3",
   "version": "3.10.14"
  }
 },
 "nbformat": 4,
 "nbformat_minor": 2
}
