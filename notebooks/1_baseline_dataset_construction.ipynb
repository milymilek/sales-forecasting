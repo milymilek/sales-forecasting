{
 "cells": [
  {
   "cell_type": "code",
   "execution_count": 1,
   "metadata": {},
   "outputs": [],
   "source": [
    "%load_ext autoreload\n",
    "%autoreload 2"
   ]
  },
  {
   "cell_type": "code",
   "execution_count": 2,
   "metadata": {},
   "outputs": [],
   "source": [
    "import os\n",
    "os.chdir('..')"
   ]
  },
  {
   "cell_type": "code",
   "execution_count": 20,
   "metadata": {},
   "outputs": [],
   "source": [
    "import pandas as pd\n",
    "\n",
    "from sales_forecasting.features import (\n",
    "    build_shops_features, build_item_categories_features,\n",
    "    build_month_map, build_test_df, build_train_df\n",
    ")"
   ]
  },
  {
   "cell_type": "code",
   "execution_count": 21,
   "metadata": {},
   "outputs": [],
   "source": [
    "# Read all base tables data\n",
    "sales_train = pd.read_csv(\".data/base/sales_train.csv\")\n",
    "shops = pd.read_csv(\".data/base/shops.csv\")\n",
    "item_categories = pd.read_csv(\".data/base/item_categories.csv\")\n",
    "items = pd.read_csv(\".data/base/items.csv\")\n",
    "test = pd.read_csv(\".data/base/test.csv\")"
   ]
  },
  {
   "cell_type": "code",
   "execution_count": 22,
   "metadata": {},
   "outputs": [],
   "source": [
    "# Merge engineered features for shops and item_categories\n",
    "shops = shops.pipe(build_shops_features)\n",
    "item_categories = item_categories.pipe(build_item_categories_features)"
   ]
  },
  {
   "cell_type": "code",
   "execution_count": 23,
   "metadata": {},
   "outputs": [],
   "source": [
    "# Merge all data into a single dataframe\n",
    "month_map = build_month_map(sales_train)\n",
    "df_train = build_train_df(sales_train, shops, items, item_categories, month_map)\n",
    "df_test = build_test_df(sales_train, test, shops, items, item_categories, month_map)\n",
    "df = pd.concat([df_train, df_test])"
   ]
  },
  {
   "cell_type": "code",
   "execution_count": 25,
   "metadata": {},
   "outputs": [],
   "source": [
    "df.to_parquet(\".data/data.parquet\")"
   ]
  }
 ],
 "metadata": {
  "kernelspec": {
   "display_name": ".venv",
   "language": "python",
   "name": "python3"
  },
  "language_info": {
   "codemirror_mode": {
    "name": "ipython",
    "version": 3
   },
   "file_extension": ".py",
   "mimetype": "text/x-python",
   "name": "python",
   "nbconvert_exporter": "python",
   "pygments_lexer": "ipython3",
   "version": "3.10.4"
  }
 },
 "nbformat": 4,
 "nbformat_minor": 2
}
